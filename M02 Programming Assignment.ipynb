{
 "cells": [
  {
   "cell_type": "markdown",
   "id": "11be9199",
   "metadata": {},
   "source": [
    "Chapter 4 (4.1, 4.2)"
   ]
  },
  {
   "cell_type": "code",
   "execution_count": 2,
   "id": "5cbe5206",
   "metadata": {},
   "outputs": [
    {
     "name": "stdout",
     "output_type": "stream",
     "text": [
      "Too low\n"
     ]
    }
   ],
   "source": [
    "# 4.1\n",
    "secret = 7\n",
    "guess = 3\n",
    "if guess == secret:\n",
    "    print(\"Just right\")\n",
    "elif guess > secret:\n",
    "    print(\"Too high\")\n",
    "else:\n",
    "    print(\"Too low\")"
   ]
  },
  {
   "cell_type": "code",
   "execution_count": 6,
   "id": "d61653a2",
   "metadata": {},
   "outputs": [
    {
     "name": "stdout",
     "output_type": "stream",
     "text": [
      "Yes\n",
      "Yes\n",
      "No\n",
      "No\n"
     ]
    }
   ],
   "source": [
    "# 4.2\n",
    "small = True\n",
    "green = False\n",
    "cherry = small\n",
    "pea = green and small\n",
    "watermelon = green\n",
    "pumpkin = not small and not green\n",
    "\n",
    "if small == cherry:\n",
    "    print(\"Yes\")\n",
    "else:\n",
    "    print(\"No\")\n",
    "\n",
    "if green == pea:\n",
    "    print(\"Yes\")\n",
    "else:\n",
    "    print(\"No\")\n",
    "\n",
    "if watermelon == small:\n",
    "    print(\"Yes\")\n",
    "else:\n",
    "    print(\"No\")\n",
    "\n",
    "if pumpkin == small or green:\n",
    "    print(\"Yes\")\n",
    "else:\n",
    "    print(\"No\")"
   ]
  },
  {
   "cell_type": "markdown",
   "id": "4777865d",
   "metadata": {},
   "source": [
    "Chapter 6 (6.1, 6.2, 6.3)"
   ]
  },
  {
   "cell_type": "code",
   "execution_count": 1,
   "id": "329a8bfa",
   "metadata": {},
   "outputs": [
    {
     "name": "stdout",
     "output_type": "stream",
     "text": [
      "3\n",
      "2\n",
      "1\n",
      "0\n"
     ]
    }
   ],
   "source": [
    "# 6.1\n",
    "numberList = [3, 2, 1, 0]\n",
    "for numbers in numberList:\n",
    "    print(numbers)"
   ]
  },
  {
   "cell_type": "code",
   "execution_count": 2,
   "id": "f05afe50",
   "metadata": {},
   "outputs": [
    {
     "name": "stdout",
     "output_type": "stream",
     "text": [
      "Too low\n",
      "Too low\n",
      "Too low\n",
      "Too low\n",
      "Too low\n",
      "Too low\n",
      "Found it!\n"
     ]
    }
   ],
   "source": [
    "# 6.2\n",
    "guess_me = 7\n",
    "number = 1\n",
    "while True:\n",
    "    if number < guess_me:\n",
    "        print(\"Too low\")\n",
    "    elif number == guess_me:\n",
    "        print(\"Found it!\")\n",
    "        break\n",
    "    else:\n",
    "        number > guess_me\n",
    "        print(\"Oops\")\n",
    "        break\n",
    "    number += 1"
   ]
  },
  {
   "cell_type": "code",
   "execution_count": 3,
   "id": "6b1d406b",
   "metadata": {},
   "outputs": [
    {
     "name": "stdout",
     "output_type": "stream",
     "text": [
      "0\n",
      "Too low\n",
      "1\n",
      "Too low\n",
      "2\n",
      "Too low\n",
      "3\n",
      "Too low\n",
      "4\n",
      "Too low\n",
      "5\n",
      "Found it!\n"
     ]
    }
   ],
   "source": [
    "# 6.3\n",
    "guess_me2 = 5\n",
    "for number1 in range(10):\n",
    "    print(number1)\n",
    "    if number1 < guess_me2:\n",
    "        print(\"Too low\")\n",
    "    elif number1 == guess_me2:\n",
    "        print(\"Found it!\")\n",
    "        break\n",
    "    else:\n",
    "        number1 > guess_me2\n",
    "        print(\"Oops\")\n",
    "        break"
   ]
  }
 ],
 "metadata": {
  "kernelspec": {
   "display_name": "Python 3 (ipykernel)",
   "language": "python",
   "name": "python3"
  },
  "language_info": {
   "codemirror_mode": {
    "name": "ipython",
    "version": 3
   },
   "file_extension": ".py",
   "mimetype": "text/x-python",
   "name": "python",
   "nbconvert_exporter": "python",
   "pygments_lexer": "ipython3",
   "version": "3.9.12"
  }
 },
 "nbformat": 4,
 "nbformat_minor": 5
}
